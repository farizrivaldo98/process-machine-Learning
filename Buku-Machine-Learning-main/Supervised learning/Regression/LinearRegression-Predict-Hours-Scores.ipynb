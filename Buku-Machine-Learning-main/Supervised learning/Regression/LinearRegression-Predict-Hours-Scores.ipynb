{
 "cells": [
  {
   "cell_type": "code",
   "execution_count": 1,
   "metadata": {
    "execution": {
     "iopub.execute_input": "2020-10-02T07:29:21.511942Z",
     "iopub.status.busy": "2020-10-02T07:29:21.511074Z",
     "iopub.status.idle": "2020-10-02T07:29:21.514544Z",
     "shell.execute_reply": "2020-10-02T07:29:21.513749Z"
    },
    "papermill": {
     "duration": 0.024815,
     "end_time": "2020-10-02T07:29:21.514727",
     "exception": false,
     "start_time": "2020-10-02T07:29:21.489912",
     "status": "completed"
    },
    "tags": []
   },
   "outputs": [],
   "source": [
    "import pandas as pd\n",
    "import numpy as np\n",
    "from sklearn import linear_model\n",
    "from sklearn.model_selection import train_test_split\n",
    "import seaborn as sns\n",
    "from sklearn import metrics\n",
    "import matplotlib.pyplot as plt\n",
    "%matplotlib inline"
   ]
  },
  {
   "cell_type": "code",
   "execution_count": 2,
   "metadata": {
    "execution": {
     "iopub.execute_input": "2020-10-02T07:29:21.554298Z",
     "iopub.status.busy": "2020-10-02T07:29:21.553392Z",
     "iopub.status.idle": "2020-10-02T07:29:21.568539Z",
     "shell.execute_reply": "2020-10-02T07:29:21.567733Z"
    },
    "papermill": {
     "duration": 0.039758,
     "end_time": "2020-10-02T07:29:21.568701",
     "exception": false,
     "start_time": "2020-10-02T07:29:21.528943",
     "status": "completed"
    },
    "tags": []
   },
   "outputs": [],
   "source": [
    "df=pd.read_csv('nilai.csv')"
   ]
  },
  {
   "cell_type": "code",
   "execution_count": 3,
   "metadata": {
    "execution": {
     "iopub.execute_input": "2020-10-02T07:29:21.614103Z",
     "iopub.status.busy": "2020-10-02T07:29:21.613260Z",
     "iopub.status.idle": "2020-10-02T07:29:21.626413Z",
     "shell.execute_reply": "2020-10-02T07:29:21.625834Z"
    },
    "papermill": {
     "duration": 0.043968,
     "end_time": "2020-10-02T07:29:21.626544",
     "exception": false,
     "start_time": "2020-10-02T07:29:21.582576",
     "status": "completed"
    },
    "tags": []
   },
   "outputs": [
    {
     "data": {
      "text/html": [
       "<div>\n",
       "<style scoped>\n",
       "    .dataframe tbody tr th:only-of-type {\n",
       "        vertical-align: middle;\n",
       "    }\n",
       "\n",
       "    .dataframe tbody tr th {\n",
       "        vertical-align: top;\n",
       "    }\n",
       "\n",
       "    .dataframe thead th {\n",
       "        text-align: right;\n",
       "    }\n",
       "</style>\n",
       "<table border=\"1\" class=\"dataframe\">\n",
       "  <thead>\n",
       "    <tr style=\"text-align: right;\">\n",
       "      <th></th>\n",
       "      <th>Hours</th>\n",
       "      <th>Scores</th>\n",
       "    </tr>\n",
       "  </thead>\n",
       "  <tbody>\n",
       "    <tr>\n",
       "      <th>0</th>\n",
       "      <td>2.5</td>\n",
       "      <td>21</td>\n",
       "    </tr>\n",
       "    <tr>\n",
       "      <th>1</th>\n",
       "      <td>5.1</td>\n",
       "      <td>47</td>\n",
       "    </tr>\n",
       "    <tr>\n",
       "      <th>2</th>\n",
       "      <td>3.2</td>\n",
       "      <td>27</td>\n",
       "    </tr>\n",
       "    <tr>\n",
       "      <th>3</th>\n",
       "      <td>8.5</td>\n",
       "      <td>75</td>\n",
       "    </tr>\n",
       "    <tr>\n",
       "      <th>4</th>\n",
       "      <td>3.5</td>\n",
       "      <td>30</td>\n",
       "    </tr>\n",
       "  </tbody>\n",
       "</table>\n",
       "</div>"
      ],
      "text/plain": [
       "   Hours  Scores\n",
       "0    2.5      21\n",
       "1    5.1      47\n",
       "2    3.2      27\n",
       "3    8.5      75\n",
       "4    3.5      30"
      ]
     },
     "execution_count": 3,
     "metadata": {},
     "output_type": "execute_result"
    }
   ],
   "source": [
    "df.head()"
   ]
  },
  {
   "cell_type": "code",
   "execution_count": 4,
   "metadata": {
    "execution": {
     "iopub.execute_input": "2020-10-02T07:29:21.662870Z",
     "iopub.status.busy": "2020-10-02T07:29:21.661709Z",
     "iopub.status.idle": "2020-10-02T07:29:21.667759Z",
     "shell.execute_reply": "2020-10-02T07:29:21.666968Z"
    },
    "papermill": {
     "duration": 0.026594,
     "end_time": "2020-10-02T07:29:21.667889",
     "exception": false,
     "start_time": "2020-10-02T07:29:21.641295",
     "status": "completed"
    },
    "tags": []
   },
   "outputs": [
    {
     "data": {
      "text/plain": [
       "(15, 2)"
      ]
     },
     "execution_count": 4,
     "metadata": {},
     "output_type": "execute_result"
    }
   ],
   "source": [
    "df.shape"
   ]
  },
  {
   "cell_type": "code",
   "execution_count": 5,
   "metadata": {
    "execution": {
     "iopub.execute_input": "2020-10-02T07:29:21.709792Z",
     "iopub.status.busy": "2020-10-02T07:29:21.708758Z",
     "iopub.status.idle": "2020-10-02T07:29:21.713290Z",
     "shell.execute_reply": "2020-10-02T07:29:21.712546Z"
    },
    "papermill": {
     "duration": 0.030382,
     "end_time": "2020-10-02T07:29:21.713429",
     "exception": false,
     "start_time": "2020-10-02T07:29:21.683047",
     "status": "completed"
    },
    "tags": []
   },
   "outputs": [
    {
     "data": {
      "text/html": [
       "<div>\n",
       "<style scoped>\n",
       "    .dataframe tbody tr th:only-of-type {\n",
       "        vertical-align: middle;\n",
       "    }\n",
       "\n",
       "    .dataframe tbody tr th {\n",
       "        vertical-align: top;\n",
       "    }\n",
       "\n",
       "    .dataframe thead th {\n",
       "        text-align: right;\n",
       "    }\n",
       "</style>\n",
       "<table border=\"1\" class=\"dataframe\">\n",
       "  <thead>\n",
       "    <tr style=\"text-align: right;\">\n",
       "      <th></th>\n",
       "      <th>Hours</th>\n",
       "      <th>Scores</th>\n",
       "    </tr>\n",
       "  </thead>\n",
       "  <tbody>\n",
       "    <tr>\n",
       "      <th>0</th>\n",
       "      <td>2.5</td>\n",
       "      <td>21</td>\n",
       "    </tr>\n",
       "    <tr>\n",
       "      <th>1</th>\n",
       "      <td>5.1</td>\n",
       "      <td>47</td>\n",
       "    </tr>\n",
       "    <tr>\n",
       "      <th>2</th>\n",
       "      <td>3.2</td>\n",
       "      <td>27</td>\n",
       "    </tr>\n",
       "    <tr>\n",
       "      <th>3</th>\n",
       "      <td>8.5</td>\n",
       "      <td>75</td>\n",
       "    </tr>\n",
       "    <tr>\n",
       "      <th>4</th>\n",
       "      <td>3.5</td>\n",
       "      <td>30</td>\n",
       "    </tr>\n",
       "  </tbody>\n",
       "</table>\n",
       "</div>"
      ],
      "text/plain": [
       "   Hours  Scores\n",
       "0    2.5      21\n",
       "1    5.1      47\n",
       "2    3.2      27\n",
       "3    8.5      75\n",
       "4    3.5      30"
      ]
     },
     "execution_count": 5,
     "metadata": {},
     "output_type": "execute_result"
    }
   ],
   "source": [
    "df.head()"
   ]
  },
  {
   "cell_type": "code",
   "execution_count": 6,
   "metadata": {
    "execution": {
     "iopub.execute_input": "2020-10-02T07:29:21.766021Z",
     "iopub.status.busy": "2020-10-02T07:29:21.765236Z",
     "iopub.status.idle": "2020-10-02T07:29:21.783734Z",
     "shell.execute_reply": "2020-10-02T07:29:21.783081Z"
    },
    "papermill": {
     "duration": 0.054465,
     "end_time": "2020-10-02T07:29:21.783879",
     "exception": false,
     "start_time": "2020-10-02T07:29:21.729414",
     "status": "completed"
    },
    "tags": []
   },
   "outputs": [
    {
     "data": {
      "text/html": [
       "<div>\n",
       "<style scoped>\n",
       "    .dataframe tbody tr th:only-of-type {\n",
       "        vertical-align: middle;\n",
       "    }\n",
       "\n",
       "    .dataframe tbody tr th {\n",
       "        vertical-align: top;\n",
       "    }\n",
       "\n",
       "    .dataframe thead th {\n",
       "        text-align: right;\n",
       "    }\n",
       "</style>\n",
       "<table border=\"1\" class=\"dataframe\">\n",
       "  <thead>\n",
       "    <tr style=\"text-align: right;\">\n",
       "      <th></th>\n",
       "      <th>Hours</th>\n",
       "      <th>Scores</th>\n",
       "    </tr>\n",
       "  </thead>\n",
       "  <tbody>\n",
       "    <tr>\n",
       "      <th>count</th>\n",
       "      <td>15.000000</td>\n",
       "      <td>15.000000</td>\n",
       "    </tr>\n",
       "    <tr>\n",
       "      <th>mean</th>\n",
       "      <td>4.833333</td>\n",
       "      <td>48.066667</td>\n",
       "    </tr>\n",
       "    <tr>\n",
       "      <th>std</th>\n",
       "      <td>2.623429</td>\n",
       "      <td>25.327756</td>\n",
       "    </tr>\n",
       "    <tr>\n",
       "      <th>min</th>\n",
       "      <td>1.100000</td>\n",
       "      <td>17.000000</td>\n",
       "    </tr>\n",
       "    <tr>\n",
       "      <th>25%</th>\n",
       "      <td>2.950000</td>\n",
       "      <td>26.000000</td>\n",
       "    </tr>\n",
       "    <tr>\n",
       "      <th>50%</th>\n",
       "      <td>4.500000</td>\n",
       "      <td>42.000000</td>\n",
       "    </tr>\n",
       "    <tr>\n",
       "      <th>75%</th>\n",
       "      <td>6.800000</td>\n",
       "      <td>68.500000</td>\n",
       "    </tr>\n",
       "    <tr>\n",
       "      <th>max</th>\n",
       "      <td>9.200000</td>\n",
       "      <td>88.000000</td>\n",
       "    </tr>\n",
       "  </tbody>\n",
       "</table>\n",
       "</div>"
      ],
      "text/plain": [
       "           Hours     Scores\n",
       "count  15.000000  15.000000\n",
       "mean    4.833333  48.066667\n",
       "std     2.623429  25.327756\n",
       "min     1.100000  17.000000\n",
       "25%     2.950000  26.000000\n",
       "50%     4.500000  42.000000\n",
       "75%     6.800000  68.500000\n",
       "max     9.200000  88.000000"
      ]
     },
     "execution_count": 6,
     "metadata": {},
     "output_type": "execute_result"
    }
   ],
   "source": [
    "df.describe()"
   ]
  },
  {
   "cell_type": "code",
   "execution_count": 7,
   "metadata": {
    "execution": {
     "iopub.execute_input": "2020-10-02T07:29:21.827206Z",
     "iopub.status.busy": "2020-10-02T07:29:21.826370Z",
     "iopub.status.idle": "2020-10-02T07:29:22.125418Z",
     "shell.execute_reply": "2020-10-02T07:29:22.124632Z"
    },
    "papermill": {
     "duration": 0.322841,
     "end_time": "2020-10-02T07:29:22.125544",
     "exception": false,
     "start_time": "2020-10-02T07:29:21.802703",
     "status": "completed"
    },
    "tags": []
   },
   "outputs": [
    {
     "data": {
      "image/png": "[encoded data removed]",
      "text/plain": [
       "<Figure size 432x288 with 1 Axes>"
      ]
     },
     "metadata": {
      "needs_background": "light"
     },
     "output_type": "display_data"
    }
   ],
   "source": [
    "df.plot(x=\"Hours\",y=\"Scores\",style=\"o\")\n",
    "plt.title(\"Hours vs Scores\")\n",
    "plt.xlabel(\"Hours\")\n",
    "plt.ylabel(\"Scores\")\n",
    "plt.show()"
   ]
  },
  {
   "cell_type": "code",
   "execution_count": 8,
   "metadata": {},
   "outputs": [
    {
     "data": {
      "text/plain": [
       "<seaborn.axisgrid.JointGrid at 0x1eb9543cac0>"
      ]
     },
     "execution_count": 8,
     "metadata": {},
     "output_type": "execute_result"
    },
    {
     "data": {
      "image/png": "[encoded data removed]",
      "text/plain": [
       "<Figure size 432x432 with 3 Axes>"
      ]
     },
     "metadata": {
      "needs_background": "light"
     },
     "output_type": "display_data"
    }
   ],
   "source": [
    "sns.jointplot(x=df['Hours'], y=df['Scores'], data=df, kind='reg')"
   ]
  },
  {
   "cell_type": "code",
   "execution_count": 9,
   "metadata": {
    "execution": {
     "iopub.execute_input": "2020-10-02T07:29:22.170215Z",
     "iopub.status.busy": "2020-10-02T07:29:22.169118Z",
     "iopub.status.idle": "2020-10-02T07:29:22.172943Z",
     "shell.execute_reply": "2020-10-02T07:29:22.172213Z"
    },
    "papermill": {
     "duration": 0.029953,
     "end_time": "2020-10-02T07:29:22.173085",
     "exception": false,
     "start_time": "2020-10-02T07:29:22.143132",
     "status": "completed"
    },
    "tags": []
   },
   "outputs": [],
   "source": [
    "X = df.iloc[:, :-1].values\n",
    "y = df.iloc[:, 1].values"
   ]
  },
  {
   "cell_type": "code",
   "execution_count": 10,
   "metadata": {
    "execution": {
     "iopub.execute_input": "2020-10-02T07:29:22.216994Z",
     "iopub.status.busy": "2020-10-02T07:29:22.216204Z",
     "iopub.status.idle": "2020-10-02T07:29:23.246427Z",
     "shell.execute_reply": "2020-10-02T07:29:23.245717Z"
    },
    "papermill": {
     "duration": 1.055378,
     "end_time": "2020-10-02T07:29:23.246571",
     "exception": false,
     "start_time": "2020-10-02T07:29:22.191193",
     "status": "completed"
    },
    "tags": []
   },
   "outputs": [],
   "source": [
    "from sklearn.model_selection import train_test_split\n",
    "X_train, X_test, y_train, y_test = train_test_split(X, y, test_size=0.2, random_state=0)"
   ]
  },
  {
   "cell_type": "code",
   "execution_count": 11,
   "metadata": {
    "execution": {
     "iopub.execute_input": "2020-10-02T07:29:23.289919Z",
     "iopub.status.busy": "2020-10-02T07:29:23.289077Z",
     "iopub.status.idle": "2020-10-02T07:29:23.423393Z",
     "shell.execute_reply": "2020-10-02T07:29:23.422706Z"
    },
    "papermill": {
     "duration": 0.158631,
     "end_time": "2020-10-02T07:29:23.423556",
     "exception": false,
     "start_time": "2020-10-02T07:29:23.264925",
     "status": "completed"
    },
    "tags": []
   },
   "outputs": [
    {
     "data": {
      "text/plain": [
       "LinearRegression()"
      ]
     },
     "execution_count": 11,
     "metadata": {},
     "output_type": "execute_result"
    }
   ],
   "source": [
    "from sklearn.linear_model import LinearRegression\n",
    "regressor = LinearRegression()\n",
    "regressor.fit(X_train, y_train)"
   ]
  },
  {
   "cell_type": "code",
   "execution_count": 12,
   "metadata": {
    "execution": {
     "iopub.execute_input": "2020-10-02T07:29:23.476053Z",
     "iopub.status.busy": "2020-10-02T07:29:23.474846Z",
     "iopub.status.idle": "2020-10-02T07:29:23.482114Z",
     "shell.execute_reply": "2020-10-02T07:29:23.480882Z"
    },
    "papermill": {
     "duration": 0.036342,
     "end_time": "2020-10-02T07:29:23.482342",
     "exception": false,
     "start_time": "2020-10-02T07:29:23.446000",
     "status": "completed"
    },
    "tags": []
   },
   "outputs": [
    {
     "name": "stdout",
     "output_type": "stream",
     "text": [
      "2.3275200558074616\n"
     ]
    }
   ],
   "source": [
    "print(regressor.intercept_)"
   ]
  },
  {
   "cell_type": "code",
   "execution_count": 13,
   "metadata": {
    "execution": {
     "iopub.execute_input": "2020-10-02T07:29:23.542792Z",
     "iopub.status.busy": "2020-10-02T07:29:23.541652Z",
     "iopub.status.idle": "2020-10-02T07:29:23.545550Z",
     "shell.execute_reply": "2020-10-02T07:29:23.546356Z"
    },
    "papermill": {
     "duration": 0.034201,
     "end_time": "2020-10-02T07:29:23.546593",
     "exception": false,
     "start_time": "2020-10-02T07:29:23.512392",
     "status": "completed"
    },
    "tags": []
   },
   "outputs": [
    {
     "name": "stdout",
     "output_type": "stream",
     "text": [
      "[9.56051622]\n"
     ]
    }
   ],
   "source": [
    "print(regressor.coef_)"
   ]
  },
  {
   "cell_type": "code",
   "execution_count": 14,
   "metadata": {
    "execution": {
     "iopub.execute_input": "2020-10-02T07:29:23.609512Z",
     "iopub.status.busy": "2020-10-02T07:29:23.608448Z",
     "iopub.status.idle": "2020-10-02T07:29:23.613247Z",
     "shell.execute_reply": "2020-10-02T07:29:23.612305Z"
    },
    "papermill": {
     "duration": 0.041861,
     "end_time": "2020-10-02T07:29:23.613435",
     "exception": false,
     "start_time": "2020-10-02T07:29:23.571574",
     "status": "completed"
    },
    "tags": []
   },
   "outputs": [],
   "source": [
    "y_pred = regressor.predict(X_test)"
   ]
  },
  {
   "cell_type": "code",
   "execution_count": 15,
   "metadata": {
    "execution": {
     "iopub.execute_input": "2020-10-02T07:29:23.678932Z",
     "iopub.status.busy": "2020-10-02T07:29:23.677874Z",
     "iopub.status.idle": "2020-10-02T07:29:23.683705Z",
     "shell.execute_reply": "2020-10-02T07:29:23.682955Z"
    },
    "papermill": {
     "duration": 0.039917,
     "end_time": "2020-10-02T07:29:23.683832",
     "exception": false,
     "start_time": "2020-10-02T07:29:23.643915",
     "status": "completed"
    },
    "tags": []
   },
   "outputs": [
    {
     "data": {
      "text/html": [
       "<div>\n",
       "<style scoped>\n",
       "    .dataframe tbody tr th:only-of-type {\n",
       "        vertical-align: middle;\n",
       "    }\n",
       "\n",
       "    .dataframe tbody tr th {\n",
       "        vertical-align: top;\n",
       "    }\n",
       "\n",
       "    .dataframe thead th {\n",
       "        text-align: right;\n",
       "    }\n",
       "</style>\n",
       "<table border=\"1\" class=\"dataframe\">\n",
       "  <thead>\n",
       "    <tr style=\"text-align: right;\">\n",
       "      <th></th>\n",
       "      <th>Actual</th>\n",
       "      <th>Predicted</th>\n",
       "    </tr>\n",
       "  </thead>\n",
       "  <tbody>\n",
       "    <tr>\n",
       "      <th>0</th>\n",
       "      <td>47</td>\n",
       "      <td>51.086153</td>\n",
       "    </tr>\n",
       "    <tr>\n",
       "      <th>1</th>\n",
       "      <td>88</td>\n",
       "      <td>90.284269</td>\n",
       "    </tr>\n",
       "    <tr>\n",
       "      <th>2</th>\n",
       "      <td>81</td>\n",
       "      <td>81.679805</td>\n",
       "    </tr>\n",
       "  </tbody>\n",
       "</table>\n",
       "</div>"
      ],
      "text/plain": [
       "   Actual  Predicted\n",
       "0      47  51.086153\n",
       "1      88  90.284269\n",
       "2      81  81.679805"
      ]
     },
     "execution_count": 15,
     "metadata": {},
     "output_type": "execute_result"
    }
   ],
   "source": [
    "df = pd.DataFrame({'Actual': y_test, 'Predicted': y_pred})\n",
    "df"
   ]
  },
  {
   "cell_type": "code",
   "execution_count": 16,
   "metadata": {
    "execution": {
     "iopub.execute_input": "2020-10-02T07:29:23.736717Z",
     "iopub.status.busy": "2020-10-02T07:29:23.735609Z",
     "iopub.status.idle": "2020-10-02T07:29:23.741218Z",
     "shell.execute_reply": "2020-10-02T07:29:23.740539Z"
    },
    "papermill": {
     "duration": 0.03626,
     "end_time": "2020-10-02T07:29:23.741345",
     "exception": false,
     "start_time": "2020-10-02T07:29:23.705085",
     "status": "completed"
    },
    "tags": []
   },
   "outputs": [
    {
     "name": "stdout",
     "output_type": "stream",
     "text": [
      "Mean Absolute Error: 2.3500755726078424\n",
      "Mean Squared Error: 7.458888326959026\n",
      "Root Mean Squared Error: 2.7310965429583454\n",
      "Model R^2 Square value 0.9767394334918118\n"
     ]
    }
   ],
   "source": [
    "from sklearn import metrics\n",
    "print('Mean Absolute Error:', metrics.mean_absolute_error(y_test, y_pred))\n",
    "print('Mean Squared Error:', metrics.mean_squared_error(y_test, y_pred))\n",
    "print('Root Mean Squared Error:', np.sqrt(metrics.mean_squared_error(y_test, y_pred)))\n",
    "print('Model R^2 Square value', metrics.r2_score(y_test, y_pred))"
   ]
  },
  {
   "cell_type": "code",
   "execution_count": 17,
   "metadata": {
    "papermill": {
     "duration": 0.020931,
     "end_time": "2020-10-02T07:29:23.783549",
     "exception": false,
     "start_time": "2020-10-02T07:29:23.762618",
     "status": "completed"
    },
    "tags": []
   },
   "outputs": [
    {
     "data": {
      "text/plain": [
       "Text(0.5, 1.0, 'Linear Regression')"
      ]
     },
     "execution_count": 17,
     "metadata": {},
     "output_type": "execute_result"
    },
    {
     "data": {
      "image/png": "[encoded data removed]",
      "text/plain": [
       "<Figure size 432x288 with 1 Axes>"
      ]
     },
     "metadata": {
      "needs_background": "light"
     },
     "output_type": "display_data"
    }
   ],
   "source": [
    "#Model Regression line on test set\n",
    "plt.scatter(X_test, y_test)\n",
    "plt.plot(X_test, y_pred, color='red', linewidth=3)\n",
    "plt.xlabel('Hours')\n",
    "plt.ylabel('Scores')\n",
    "plt.title('Linear Regression')"
   ]
  },
  {
   "cell_type": "code",
   "execution_count": 18,
   "metadata": {},
   "outputs": [
    {
     "data": {
      "text/plain": [
       "Text(0, 0.5, 'Residual')"
      ]
     },
     "execution_count": 18,
     "metadata": {},
     "output_type": "execute_result"
    },
    {
     "data": {
      "image/png": "[encoded data removed]",
      "text/plain": [
       "<Figure size 432x288 with 1 Axes>"
      ]
     },
     "metadata": {
      "needs_background": "light"
     },
     "output_type": "display_data"
    }
   ],
   "source": [
    "#Residual plot\n",
    "plt.scatter(regressor.predict(X_test), regressor.predict(X_test) - y_test, c='g', s = 30)\n",
    "plt.hlines(y=0, xmin=0, xmax=100)\n",
    "plt.title('Residual plot')\n",
    "plt.ylabel('Residual')"
   ]
  },
  {
   "cell_type": "code",
   "execution_count": null,
   "metadata": {},
   "outputs": [],
   "source": []
  },
  {
   "cell_type": "code",
   "execution_count": null,
   "metadata": {},
   "outputs": [],
   "source": []
  }
 ],
 "metadata": {
  "kernelspec": {
   "display_name": "Python 3",
   "language": "python",
   "name": "python3"
  },
  "language_info": {
   "codemirror_mode": {
    "name": "ipython",
    "version": 3
   },
   "file_extension": ".py",
   "mimetype": "text/x-python",
   "name": "python",
   "nbconvert_exporter": "python",
   "pygments_lexer": "ipython3",
   "version": "3.8.3"
  },
  "papermill": {
   "duration": 8.055084,
   "end_time": "2020-10-02T07:29:23.914997",
   "environment_variables": {},
   "exception": null,
   "input_path": "__notebook__.ipynb",
   "output_path": "__notebook__.ipynb",
   "parameters": {},
   "start_time": "2020-10-02T07:29:15.859913",
   "version": "2.1.0"
  }
 },
 "nbformat": 4,
 "nbformat_minor": 4
}
