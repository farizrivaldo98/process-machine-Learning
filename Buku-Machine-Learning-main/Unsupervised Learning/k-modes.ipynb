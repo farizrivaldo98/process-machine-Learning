{
 "cells": [
  {
   "cell_type": "code",
   "execution_count": 3,
   "metadata": {},
   "outputs": [],
   "source": [
    "import pandas as pd\n",
    "from kmodes.kmodes import KModes\n",
    "import matplotlib.pyplot as plt"
   ]
  },
  {
   "cell_type": "code",
   "execution_count": 17,
   "metadata": {},
   "outputs": [
    {
     "data": {
      "text/html": [
       "<div>\n",
       "<style scoped>\n",
       "    .dataframe tbody tr th:only-of-type {\n",
       "        vertical-align: middle;\n",
       "    }\n",
       "\n",
       "    .dataframe tbody tr th {\n",
       "        vertical-align: top;\n",
       "    }\n",
       "\n",
       "    .dataframe thead th {\n",
       "        text-align: right;\n",
       "    }\n",
       "</style>\n",
       "<table border=\"1\" class=\"dataframe\">\n",
       "  <thead>\n",
       "    <tr style=\"text-align: right;\">\n",
       "      <th></th>\n",
       "      <th>PERSON</th>\n",
       "      <th>HAIR COLOR</th>\n",
       "      <th>EYE COLOR</th>\n",
       "      <th>SKIN COLOR</th>\n",
       "    </tr>\n",
       "  </thead>\n",
       "  <tbody>\n",
       "    <tr>\n",
       "      <th>0</th>\n",
       "      <td>P1</td>\n",
       "      <td>Blonde</td>\n",
       "      <td>Amber</td>\n",
       "      <td>Fair</td>\n",
       "    </tr>\n",
       "    <tr>\n",
       "      <th>1</th>\n",
       "      <td>P2</td>\n",
       "      <td>Brunette</td>\n",
       "      <td>Gray</td>\n",
       "      <td>Brown</td>\n",
       "    </tr>\n",
       "    <tr>\n",
       "      <th>2</th>\n",
       "      <td>P3</td>\n",
       "      <td>Red</td>\n",
       "      <td>Green</td>\n",
       "      <td>Brown</td>\n",
       "    </tr>\n",
       "    <tr>\n",
       "      <th>3</th>\n",
       "      <td>P4</td>\n",
       "      <td>Black</td>\n",
       "      <td>Hazel</td>\n",
       "      <td>Brown</td>\n",
       "    </tr>\n",
       "    <tr>\n",
       "      <th>4</th>\n",
       "      <td>P5</td>\n",
       "      <td>Brunette</td>\n",
       "      <td>Amber</td>\n",
       "      <td>Fair</td>\n",
       "    </tr>\n",
       "    <tr>\n",
       "      <th>5</th>\n",
       "      <td>P6</td>\n",
       "      <td>Black</td>\n",
       "      <td>Gray</td>\n",
       "      <td>Brown</td>\n",
       "    </tr>\n",
       "    <tr>\n",
       "      <th>6</th>\n",
       "      <td>P7</td>\n",
       "      <td>Red</td>\n",
       "      <td>Green</td>\n",
       "      <td>Fair</td>\n",
       "    </tr>\n",
       "    <tr>\n",
       "      <th>7</th>\n",
       "      <td>P8</td>\n",
       "      <td>Black</td>\n",
       "      <td>Hazel</td>\n",
       "      <td>Fair</td>\n",
       "    </tr>\n",
       "  </tbody>\n",
       "</table>\n",
       "</div>"
      ],
      "text/plain": [
       "  PERSON HAIR COLOR EYE COLOR SKIN COLOR\n",
       "0     P1     Blonde     Amber       Fair\n",
       "1     P2   Brunette      Gray      Brown\n",
       "2     P3        Red     Green      Brown\n",
       "3     P4      Black     Hazel      Brown\n",
       "4     P5   Brunette     Amber       Fair\n",
       "5     P6      Black      Gray      Brown\n",
       "6     P7        Red     Green       Fair\n",
       "7     P8      Black     Hazel       Fair"
      ]
     },
     "execution_count": 17,
     "metadata": {},
     "output_type": "execute_result"
    }
   ],
   "source": [
    "df=pd.read_excel('kmodes_dataset.xlsx')\n",
    "df"
   ]
  },
  {
   "cell_type": "code",
   "execution_count": 10,
   "metadata": {},
   "outputs": [
    {
     "data": {
      "text/plain": [
       "array([1, 2, 0, 0, 1, 0, 1, 0], dtype=uint16)"
      ]
     },
     "execution_count": 10,
     "metadata": {},
     "output_type": "execute_result"
    }
   ],
   "source": [
    "km=KModes(n_clusters=3,max_iter=5)\n",
    "clusters=km.fit_predict(df)\n",
    "clusters"
   ]
  },
  {
   "cell_type": "code",
   "execution_count": 8,
   "metadata": {},
   "outputs": [
    {
     "name": "stdout",
     "output_type": "stream",
     "text": [
      "[['P3' 'Black' 'Hazel' 'Brown']\n",
      " ['P1' 'Blonde' 'Amber' 'Fair']\n",
      " ['P2' 'Brunette' 'Gray' 'Brown']]\n"
     ]
    }
   ],
   "source": [
    "print(km.cluster_centroids_)"
   ]
  },
  {
   "cell_type": "code",
   "execution_count": 14,
   "metadata": {},
   "outputs": [],
   "source": [
    "cluster_dict=[]\n",
    "for c in clusters:\n",
    "    cluster_dict.append(c)"
   ]
  },
  {
   "cell_type": "code",
   "execution_count": 16,
   "metadata": {},
   "outputs": [
    {
     "data": {
      "text/html": [
       "<div>\n",
       "<style scoped>\n",
       "    .dataframe tbody tr th:only-of-type {\n",
       "        vertical-align: middle;\n",
       "    }\n",
       "\n",
       "    .dataframe tbody tr th {\n",
       "        vertical-align: top;\n",
       "    }\n",
       "\n",
       "    .dataframe thead th {\n",
       "        text-align: right;\n",
       "    }\n",
       "</style>\n",
       "<table border=\"1\" class=\"dataframe\">\n",
       "  <thead>\n",
       "    <tr style=\"text-align: right;\">\n",
       "      <th></th>\n",
       "      <th>PERSON</th>\n",
       "      <th>HAIR COLOR</th>\n",
       "      <th>EYE COLOR</th>\n",
       "      <th>SKIN COLOR</th>\n",
       "      <th>CLUSTER</th>\n",
       "    </tr>\n",
       "  </thead>\n",
       "  <tbody>\n",
       "    <tr>\n",
       "      <th>0</th>\n",
       "      <td>P1</td>\n",
       "      <td>Blonde</td>\n",
       "      <td>Amber</td>\n",
       "      <td>Fair</td>\n",
       "      <td>1</td>\n",
       "    </tr>\n",
       "    <tr>\n",
       "      <th>1</th>\n",
       "      <td>P2</td>\n",
       "      <td>Brunette</td>\n",
       "      <td>Gray</td>\n",
       "      <td>Brown</td>\n",
       "      <td>2</td>\n",
       "    </tr>\n",
       "    <tr>\n",
       "      <th>2</th>\n",
       "      <td>P3</td>\n",
       "      <td>Red</td>\n",
       "      <td>Green</td>\n",
       "      <td>Brown</td>\n",
       "      <td>0</td>\n",
       "    </tr>\n",
       "    <tr>\n",
       "      <th>3</th>\n",
       "      <td>P4</td>\n",
       "      <td>Black</td>\n",
       "      <td>Hazel</td>\n",
       "      <td>Brown</td>\n",
       "      <td>0</td>\n",
       "    </tr>\n",
       "    <tr>\n",
       "      <th>4</th>\n",
       "      <td>P5</td>\n",
       "      <td>Brunette</td>\n",
       "      <td>Amber</td>\n",
       "      <td>Fair</td>\n",
       "      <td>1</td>\n",
       "    </tr>\n",
       "    <tr>\n",
       "      <th>5</th>\n",
       "      <td>P6</td>\n",
       "      <td>Black</td>\n",
       "      <td>Gray</td>\n",
       "      <td>Brown</td>\n",
       "      <td>0</td>\n",
       "    </tr>\n",
       "    <tr>\n",
       "      <th>6</th>\n",
       "      <td>P7</td>\n",
       "      <td>Red</td>\n",
       "      <td>Green</td>\n",
       "      <td>Fair</td>\n",
       "      <td>1</td>\n",
       "    </tr>\n",
       "    <tr>\n",
       "      <th>7</th>\n",
       "      <td>P8</td>\n",
       "      <td>Black</td>\n",
       "      <td>Hazel</td>\n",
       "      <td>Fair</td>\n",
       "      <td>0</td>\n",
       "    </tr>\n",
       "  </tbody>\n",
       "</table>\n",
       "</div>"
      ],
      "text/plain": [
       "  PERSON HAIR COLOR EYE COLOR SKIN COLOR  CLUSTER\n",
       "0     P1     Blonde     Amber       Fair        1\n",
       "1     P2   Brunette      Gray      Brown        2\n",
       "2     P3        Red     Green      Brown        0\n",
       "3     P4      Black     Hazel      Brown        0\n",
       "4     P5   Brunette     Amber       Fair        1\n",
       "5     P6      Black      Gray      Brown        0\n",
       "6     P7        Red     Green       Fair        1\n",
       "7     P8      Black     Hazel       Fair        0"
      ]
     },
     "execution_count": 16,
     "metadata": {},
     "output_type": "execute_result"
    }
   ],
   "source": [
    "df['CLUSTER']=cluster_dict\n",
    "df"
   ]
  },
  {
   "cell_type": "code",
   "execution_count": null,
   "metadata": {},
   "outputs": [],
   "source": []
  },
  {
   "cell_type": "code",
   "execution_count": null,
   "metadata": {},
   "outputs": [],
   "source": []
  }
 ],
 "metadata": {
  "kernelspec": {
   "display_name": "Python 3",
   "language": "python",
   "name": "python3"
  }
 },
 "nbformat": 4,
 "nbformat_minor": 5
}
